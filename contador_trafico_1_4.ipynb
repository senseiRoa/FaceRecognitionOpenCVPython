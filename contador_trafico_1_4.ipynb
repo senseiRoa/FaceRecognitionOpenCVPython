{
  "nbformat": 4,
  "nbformat_minor": 0,
  "metadata": {
    "colab": {
      "name": "contador_trafico_1_4.ipynb",
      "provenance": [],
      "collapsed_sections": [],
      "toc_visible": true,
      "include_colab_link": true
    },
    "kernelspec": {
      "name": "python3",
      "display_name": "Python 3"
    }
  },
  "cells": [
    {
      "cell_type": "markdown",
      "metadata": {
        "id": "view-in-github",
        "colab_type": "text"
      },
      "source": [
        "<a href=\"https://colab.research.google.com/github/senseiRoa/FaceRecognitionOpenCVPython/blob/main/contador_trafico_1_4.ipynb\" target=\"_parent\"><img src=\"https://colab.research.google.com/assets/colab-badge.svg\" alt=\"Open In Colab\"/></a>"
      ]
    },
    {
      "cell_type": "markdown",
      "metadata": {
        "id": "F3krnyp-6rKy"
      },
      "source": [
        "#Guardar las imágenes del vídeo frame a frame y convertirlo en un vídeo de salida,  usando Colab y Opencv"
      ]
    },
    {
      "cell_type": "markdown",
      "metadata": {
        "id": "KY7NkqzBPfec"
      },
      "source": [
        "**Clonar las carpetas y ficheros que se van a utilizar**"
      ]
    },
    {
      "cell_type": "code",
      "metadata": {
        "id": "CszbAIll1X8F",
        "colab": {
          "base_uri": "https://localhost:8080/"
        },
        "outputId": "4807766c-2ca7-4649-fbb2-f37ea99b37c4"
      },
      "source": [
        "!git clone https://github.com/JoanArb/contador-trafico_1_4"
      ],
      "execution_count": 1,
      "outputs": [
        {
          "output_type": "stream",
          "text": [
            "Cloning into 'contador-trafico_1_4'...\n",
            "remote: Enumerating objects: 14, done.\u001b[K\n",
            "remote: Counting objects: 100% (14/14), done.\u001b[K\n",
            "remote: Compressing objects: 100% (9/9), done.\u001b[K\n",
            "remote: Total 14 (delta 1), reused 0 (delta 0), pack-reused 0\u001b[K\n",
            "Unpacking objects: 100% (14/14), done.\n"
          ],
          "name": "stdout"
        }
      ]
    },
    {
      "cell_type": "markdown",
      "metadata": {
        "id": "9ZrAxPG6PoNj"
      },
      "source": [
        "**Código para guardar las imágenes del vídeo frame a frame y convertirlo en un vídeo de salida, usando Colab y Opencv**"
      ]
    },
    {
      "cell_type": "code",
      "metadata": {
        "id": "angBqMXI22Wt"
      },
      "source": [
        "import cv2\n",
        "                                                        #abrir el vídeo  de entrada usando Opencv\n",
        "vs = cv2.VideoCapture('/content/contador-trafico_1_4/input/highway.mp4')\n",
        "\n",
        "writer = None                             #inicializar el puntero para el archivo de video de salida\n",
        "(W, H) = (None, None)                     #inicializar las dimensiones del frame\n",
        "frameIndex = 0                            #inicializar el índice del frame\n",
        "filename_res = 'highway_res.mp4'\n",
        "OUTPUT='/content/contador-trafico_1_4/output/'+str(filename_res)\t#path y nombre del vídeo de salida\n",
        "\n",
        "while True:                                     #recorrer todo el vídeo\n",
        "  (grabbed, frame) = vs.read()                  #leer un frame de un vídeo\n",
        "  if not grabbed:                               #si no hay más frames, se acaba el proceso\n",
        "    break\t\t\t\t\t\t\t\t\t\t\t\t\t\t\t\n",
        "  if W is None or H is None:                    #si el tamaño del vídeo no está definido, se define\n",
        "    (H, W) = frame.shape[:2]\n",
        "                                                                        #guardar los frames uno a uno\n",
        "  cv2.imwrite(\"/content/contador-trafico_1_4/output/frame-{}.png\".format(frameIndex), frame)\n",
        "\n",
        "  if writer is None:        #si es el primer frame, se preparan las caracteríticas del vídeo de salida \t\t\t\n",
        "    fourcc = cv2.VideoWriter_fourcc(*\"XVID\")\t                          \t\t\t\t\t\t\t\t\t\t\t\t\t\t\t\t\t\t\t\t\t\t\t\n",
        "    writer = cv2.VideoWriter(OUTPUT, fourcc, 35,(frame.shape[1],frame.shape[0]), True)\n",
        "                              #donde cv.VideoWriter(filename, fourcc, fps, frameSize, isColor)\t \n",
        "  writer.write(frame)                          #copiar el frame\n",
        "  frameIndex += 1                              #incrementar el índice de frame para el  siguiente frame\n",
        "                  #Y para acabar se libera todo\n",
        "writer.release()\n",
        "vs.release()\n",
        "cv2.destroyAllWindows()"
      ],
      "execution_count": 4,
      "outputs": []
    },
    {
      "cell_type": "markdown",
      "metadata": {
        "id": "bwk3FZiYR_fL"
      },
      "source": [
        "**Abrir el vídeo del directorio input, y contar el número de frames que tiene el vídeo (Opcional)**"
      ]
    },
    {
      "cell_type": "code",
      "metadata": {
        "id": "mvSHcQnWR6qd",
        "colab": {
          "base_uri": "https://localhost:8080/"
        },
        "outputId": "4669ed9c-61ee-449e-dabc-bfcd0164c583"
      },
      "source": [
        "import imutils\n",
        "import cv2\n",
        "import os\n",
        "vs = cv2.VideoCapture('/content/contador-trafico_1_4/input/highway.mp4')\n",
        "\n",
        "# determinar el número de frames de la secuencia de vídeo\t\t\t\t\t\t\t\t\t\n",
        "try:                                                 \n",
        "\tprop = cv2.cv.CV_CAP_PROP_FRAME_COUNT if imutils.is_cv2() \\\n",
        "\t\telse cv2.CAP_PROP_FRAME_COUNT\n",
        "\ttotal = int(vs.get(prop))\n",
        "\tprint(\"[INFO] {} total frames in video\".format(total))\n",
        "except:                                               \n",
        "\tprint(\"[INFO] could not determine # of frames in video\")\n",
        "\tprint(\"[INFO] no approx. completion time can be provided\")\n",
        "\ttotal = -1"
      ],
      "execution_count": 3,
      "outputs": [
        {
          "output_type": "stream",
          "text": [
            "[INFO] 812 total frames in video\n"
          ],
          "name": "stdout"
        }
      ]
    },
    {
      "cell_type": "markdown",
      "metadata": {
        "id": "83Hr04VGzNDV"
      },
      "source": [
        "**Es una ayuda para realizar pruebas. Borra todos los ficheros de la carpeta output**"
      ]
    },
    {
      "cell_type": "code",
      "metadata": {
        "id": "sic7Ak5vzIjG"
      },
      "source": [
        "import glob\n",
        "import os\n",
        "files = glob.glob('/content/contador-trafico_1_4/output/*.*')  #seleccionar todos los ficheros png del directorio output\n",
        "for f in files:\n",
        "\tos.remove(f)  "
      ],
      "execution_count": null,
      "outputs": []
    }
  ]
}