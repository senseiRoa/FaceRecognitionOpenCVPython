{
  "nbformat": 4,
  "nbformat_minor": 0,
  "metadata": {
    "colab": {
      "name": "RecognizeFaces Tesis.ipynb",
      "private_outputs": true,
      "provenance": [],
      "collapsed_sections": [],
      "include_colab_link": true
    },
    "kernelspec": {
      "name": "python3",
      "display_name": "Python 3"
    },
    "language_info": {
      "name": "python"
    },
    "accelerator": "TPU"
  },
  "cells": [
    {
      "cell_type": "markdown",
      "metadata": {
        "id": "view-in-github",
        "colab_type": "text"
      },
      "source": [
        "<a href=\"https://colab.research.google.com/github/senseiRoa/FaceRecognitionOpenCVPython/blob/main/RecognizeFaces_Tesis.ipynb\" target=\"_parent\"><img src=\"https://colab.research.google.com/assets/colab-badge.svg\" alt=\"Open In Colab\"/></a>"
      ]
    },
    {
      "cell_type": "markdown",
      "metadata": {
        "id": "1PmKpEyOeLFd"
      },
      "source": [
        "# Instalando librerias"
      ]
    },
    {
      "cell_type": "code",
      "metadata": {
        "id": "Q31BLUZOjmci"
      },
      "source": [
        "!pip install dlib"
      ],
      "execution_count": null,
      "outputs": []
    },
    {
      "cell_type": "code",
      "metadata": {
        "id": "a51t7ur2jq5w"
      },
      "source": [
        "!pip install face_recognition"
      ],
      "execution_count": null,
      "outputs": []
    },
    {
      "cell_type": "code",
      "metadata": {
        "id": "_pI_XK5QkDj2"
      },
      "source": [
        "! pip install imutils"
      ],
      "execution_count": null,
      "outputs": []
    },
    {
      "cell_type": "markdown",
      "metadata": {
        "id": "cFL_WYvIJWJG"
      },
      "source": [
        "#Clonando el repositorio github donde esta el proyecto con la estrucutra de carpetas"
      ]
    },
    {
      "cell_type": "code",
      "metadata": {
        "id": "b4TKz1mgH2Ka"
      },
      "source": [
        "!rm -r /content/FaceRecognitionOpenCVPython"
      ],
      "execution_count": null,
      "outputs": []
    },
    {
      "cell_type": "code",
      "metadata": {
        "id": "l5Me8uurhdg4"
      },
      "source": [
        "\n",
        "!git clone https://github.com/senseiRoa/FaceRecognitionOpenCVPython.git\n"
      ],
      "execution_count": null,
      "outputs": []
    },
    {
      "cell_type": "code",
      "metadata": {
        "id": "_LX52kSlidkL"
      },
      "source": [
        "!cd FaceRecognitionOpenCVPython\n",
        "!ls\n"
      ],
      "execution_count": null,
      "outputs": []
    },
    {
      "cell_type": "markdown",
      "metadata": {
        "id": "dmEzdIyWGTgB"
      },
      "source": [
        "# Generando archivo encodings.pickle con los vectores de caracteristicas de cada actor"
      ]
    },
    {
      "cell_type": "code",
      "metadata": {
        "id": "g6NS7_nsjR95"
      },
      "source": [
        "!python FaceRecognitionOpenCVPython/encode_faces.py --dataset FaceRecognitionOpenCVPython/dataset --encodings FaceRecognitionOpenCVPython/encodings.pickle"
      ],
      "execution_count": null,
      "outputs": []
    },
    {
      "cell_type": "markdown",
      "metadata": {
        "id": "PNw-qYKJJ1oT"
      },
      "source": [
        "# Corriendo set de pruebas con 5 imagenes de cada Actor"
      ]
    },
    {
      "cell_type": "code",
      "metadata": {
        "id": "eHWP8B_dmzh5"
      },
      "source": [
        "\n",
        "\n",
        "#%run FaceRecognitionOpenCVPython/colab/recognize_faces_image.py --encodings FaceRecognitionOpenCVPython/encodings.pickle --image   FaceRecognitionOpenCVPython/examples/DianaHyland/01.jpg\n",
        "#%run FaceRecognitionOpenCVPython/colab/recognize_faces_image.py --encodings FaceRecognitionOpenCVPython/encodings.pickle --image   FaceRecognitionOpenCVPython/examples/RalphBellamy/05.jpg\n",
        "%run FaceRecognitionOpenCVPython/colab/recognize_faces_image_validation.py --encodings FaceRecognitionOpenCVPython/encodings.pickle --dataset  FaceRecognitionOpenCVPython/examples\n",
        "\n",
        "\n"
      ],
      "execution_count": null,
      "outputs": []
    },
    {
      "cell_type": "markdown",
      "metadata": {
        "id": "X5aFK156J-oA"
      },
      "source": [
        "# corriendo set de pruebas con fragmentos de la pelicula para evaluar el reconocimiento e identificacion facial"
      ]
    },
    {
      "cell_type": "code",
      "metadata": {
        "id": "Sg-jpra5HR1c"
      },
      "source": [
        "%run /content/FaceRecognitionOpenCVPython/colab/recognize_faces_video_file_validation.py --encodings /content/FaceRecognitionOpenCVPython/encodings.pickle --dataset  /content/FaceRecognitionOpenCVPython/videos --output /content/FaceRecognitionOpenCVPython/output --display 0"
      ],
      "execution_count": null,
      "outputs": []
    },
    {
      "cell_type": "markdown",
      "metadata": {
        "id": "0aMTO3UuNXs_"
      },
      "source": [
        "## Descargar los archivos de output\n"
      ]
    },
    {
      "cell_type": "code",
      "metadata": {
        "id": "CfUYTS1GNcY0"
      },
      "source": [
        "!zip -r /content/output.zip /content/FaceRecognitionOpenCVPython/output\n"
      ],
      "execution_count": null,
      "outputs": []
    },
    {
      "cell_type": "code",
      "metadata": {
        "id": "lu0E_LvSOBAr"
      },
      "source": [
        "from google.colab import files\n",
        "files.download(\"/content/output.zip\")"
      ],
      "execution_count": null,
      "outputs": []
    },
    {
      "cell_type": "markdown",
      "metadata": {
        "id": "NvfSQItwPC2H"
      },
      "source": [
        "# Cargar otros fragmentos de pelicula"
      ]
    },
    {
      "cell_type": "code",
      "metadata": {
        "id": "RVn2hjmWQcPL"
      },
      "source": [
        "!rm /content/FaceRecognitionOpenCVPython/videos/*"
      ],
      "execution_count": null,
      "outputs": []
    },
    {
      "cell_type": "code",
      "metadata": {
        "id": "nVUz3TNqW7NK"
      },
      "source": [
        "\n",
        "from google.colab import files\n",
        "files.upload()\n",
        "\n"
      ],
      "execution_count": null,
      "outputs": []
    },
    {
      "cell_type": "code",
      "metadata": {
        "id": "AL0bltf9OkiX"
      },
      "source": [
        "!mv *.mp4 /content/FaceRecognitionOpenCVPython/videos/"
      ],
      "execution_count": null,
      "outputs": []
    },
    {
      "cell_type": "code",
      "metadata": {
        "id": "Ie7cr-nGKSoM"
      },
      "source": [
        "%run /content/FaceRecognitionOpenCVPython/colab/recognize_faces_video_file_validation.py --encodings /content/FaceRecognitionOpenCVPython/encodings.pickle --dataset  /content/FaceRecognitionOpenCVPython/videos --output /content/FaceRecognitionOpenCVPython/output \n",
        "#--display 0"
      ],
      "execution_count": null,
      "outputs": []
    }
  ]
}